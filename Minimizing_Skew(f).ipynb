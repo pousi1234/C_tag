{
  "nbformat": 4,
  "nbformat_minor": 0,
  "metadata": {
    "colab": {
      "provenance": [],
      "authorship_tag": "ABX9TyNPk0ob1uwPsBfRR8C9KTou",
      "include_colab_link": true
    },
    "kernelspec": {
      "name": "python3",
      "display_name": "Python 3"
    },
    "language_info": {
      "name": "python"
    }
  },
  "cells": [
    {
      "cell_type": "markdown",
      "metadata": {
        "id": "view-in-github",
        "colab_type": "text"
      },
      "source": [
        "<a href=\"https://colab.research.google.com/github/pousi1234/C_tag/blob/main/Minimizing_Skew(f).ipynb\" target=\"_parent\"><img src=\"https://colab.research.google.com/assets/colab-badge.svg\" alt=\"Open In Colab\"/></a>"
      ]
    },
    {
      "cell_type": "code",
      "execution_count": 8,
      "metadata": {
        "colab": {
          "base_uri": "https://localhost:8080/"
        },
        "id": "fqjaMB3oapqE",
        "outputId": "9c0579fa-eb7f-431a-e123-9b1d55965d9a"
      },
      "outputs": [
        {
          "output_type": "stream",
          "name": "stdout",
          "text": [
            "53 97 "
          ]
        }
      ],
      "source": [
        "def minimizingskew (genomeList) :\n",
        "    result = [] # skew list\n",
        "    count = 0\n",
        "    for i in range(len (genomeList)):\n",
        "             if genomeList[i] == 'C':\n",
        "                 count -= 1\n",
        "                 result.append(count)\n",
        "             elif genomeList [i] == 'G':\n",
        "                  count += 1\n",
        "                  result.append (count)\n",
        "             else:\n",
        "                 result.append(count)\n",
        "             #print(result)\n",
        "             minValue = min(result) # getting minimum value from result list\n",
        "             #print(minValue)\n",
        "    for i in range(len(result)):\n",
        "        if result[i]== minValue:\n",
        "           print(i+1, end = \" \") # printing all the index of the minimum va\n",
        "\n",
        "           \n",
        "Genome = \"CCTATCGGTGGATTAGCATGTCCCTGTACGTTTCGCCGCGAACTAGTTCACACGGCTTGATGGCAAATGGTTTTTCCGGCGACCGTAATCGTCCACCGAG\"\n",
        "Genome = Genome .upper()\n",
        "\n",
        "genomeList = list(Genome) # converting genome string into list\n",
        "minimizingskew(genomeList)\n",
        "           "
      ]
    }
  ]
}
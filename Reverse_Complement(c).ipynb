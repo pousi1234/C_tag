{
  "nbformat": 4,
  "nbformat_minor": 0,
  "metadata": {
    "colab": {
      "provenance": [],
      "authorship_tag": "ABX9TyMAtDBbsgR6d7J8NM2xDyVP",
      "include_colab_link": true
    },
    "kernelspec": {
      "name": "python3",
      "display_name": "Python 3"
    },
    "language_info": {
      "name": "python"
    }
  },
  "cells": [
    {
      "cell_type": "markdown",
      "metadata": {
        "id": "view-in-github",
        "colab_type": "text"
      },
      "source": [
        "<a href=\"https://colab.research.google.com/github/pousi1234/C_tag/blob/main/Reverse_Complement(c).ipynb\" target=\"_parent\"><img src=\"https://colab.research.google.com/assets/colab-badge.svg\" alt=\"Open In Colab\"/></a>"
      ]
    },
    {
      "cell_type": "code",
      "execution_count": 1,
      "metadata": {
        "colab": {
          "base_uri": "https://localhost:8080/"
        },
        "id": "TU3I66BOPysP",
        "outputId": "468c0d19-2321-4c37-b124-79168130bc2e"
      },
      "outputs": [
        {
          "output_type": "stream",
          "name": "stdout",
          "text": [
            "AAAACCCGGT\n",
            "ACCGGGTTTT \n"
          ]
        }
      ],
      "source": [
        "\n",
        "string = input()\n",
        "ans = \" \"\n",
        "for i in string:\n",
        "  if(i==\"A\"):\n",
        "    ans+=\"T\"\n",
        "  elif(i==\"C\"):\n",
        "    ans+=\"G\"\n",
        "  elif(i==\"G\"):\n",
        "    ans+=\"C\"\n",
        "  elif(i==\"T\"):\n",
        "    ans+=\"A\"\n",
        "print(ans[::-1])"
      ]
    }
  ]
}
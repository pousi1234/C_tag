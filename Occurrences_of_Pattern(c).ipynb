{
  "nbformat": 4,
  "nbformat_minor": 0,
  "metadata": {
    "colab": {
      "provenance": [],
      "authorship_tag": "ABX9TyPED4PstJ+74NnJ4YdkqWI4",
      "include_colab_link": true
    },
    "kernelspec": {
      "name": "python3",
      "display_name": "Python 3"
    },
    "language_info": {
      "name": "python"
    }
  },
  "cells": [
    {
      "cell_type": "markdown",
      "metadata": {
        "id": "view-in-github",
        "colab_type": "text"
      },
      "source": [
        "<a href=\"https://colab.research.google.com/github/pousi1234/C_tag/blob/main/Occurrences_of_Pattern(c).ipynb\" target=\"_parent\"><img src=\"https://colab.research.google.com/assets/colab-badge.svg\" alt=\"Open In Colab\"/></a>"
      ]
    },
    {
      "cell_type": "code",
      "execution_count": 7,
      "metadata": {
        "colab": {
          "base_uri": "https://localhost:8080/"
        },
        "id": "9hxPc6KpQWcs",
        "outputId": "0969ce83-3c3e-49b1-cd94-affdb383b1e7"
      },
      "outputs": [
        {
          "output_type": "stream",
          "name": "stdout",
          "text": [
            "ATAT\n",
            "GATATATGCATATACTT\n",
            "1 3 9 "
          ]
        }
      ],
      "source": [
        "\n",
        "\n",
        "pattern = input();\n",
        "text = input();\n",
        "l = len(text)-len (pattern)+1;\n",
        "\n",
        "for i in range(0, l):\n",
        "       if text[i: i+len(pattern)]==pattern:\n",
        "         print (i, end=\" \");\n",
        "   "
      ]
    }
  ]
}
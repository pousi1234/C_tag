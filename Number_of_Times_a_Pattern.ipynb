{
  "nbformat": 4,
  "nbformat_minor": 0,
  "metadata": {
    "colab": {
      "provenance": [],
      "authorship_tag": "ABX9TyMF5helVKDxm18EKViQjjXX",
      "include_colab_link": true
    },
    "kernelspec": {
      "name": "python3",
      "display_name": "Python 3"
    },
    "language_info": {
      "name": "python"
    }
  },
  "cells": [
    {
      "cell_type": "markdown",
      "metadata": {
        "id": "view-in-github",
        "colab_type": "text"
      },
      "source": [
        "<a href=\"https://colab.research.google.com/github/pousi1234/C_tag/blob/main/Number_of_Times_a_Pattern.ipynb\" target=\"_parent\"><img src=\"https://colab.research.google.com/assets/colab-badge.svg\" alt=\"Open In Colab\"/></a>"
      ]
    },
    {
      "cell_type": "code",
      "execution_count": null,
      "metadata": {
        "colab": {
          "base_uri": "https://localhost:8080/"
        },
        "id": "-po8ydmk7imW",
        "outputId": "e2f8800b-ff1a-4a15-f4c8-400eb1b9cc15"
      },
      "outputs": [
        {
          "output_type": "stream",
          "name": "stdout",
          "text": [
            "GCGCG\n",
            "GCG\n",
            "2\n"
          ]
        }
      ],
      "source": [
        "\n",
        "def pattern_count(text, pattern):\n",
        "    count = 0\n",
        "    for i in range(0, len(text) - len(pattern) + 1):\n",
        "        if text[i : len(pattern) + i] == pattern:\n",
        "            count += 1\n",
        "    return count\n",
        "    \n",
        "text = input()\n",
        "pattern = input()\n",
        "result = pattern_count(text,pattern)\n",
        "print(result)"
      ]
    }
  ]
}
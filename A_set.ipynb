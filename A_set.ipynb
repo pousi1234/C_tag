{
  "nbformat": 4,
  "nbformat_minor": 0,
  "metadata": {
    "colab": {
      "provenance": [],
      "authorship_tag": "ABX9TyMI0zyVjXvHdkIRt9lbNfdA",
      "include_colab_link": true
    },
    "kernelspec": {
      "name": "python3",
      "display_name": "Python 3"
    },
    "language_info": {
      "name": "python"
    }
  },
  "cells": [
    {
      "cell_type": "markdown",
      "metadata": {
        "id": "view-in-github",
        "colab_type": "text"
      },
      "source": [
        "<a href=\"https://colab.research.google.com/github/pousi1234/C_tag/blob/main/A_set.ipynb\" target=\"_parent\"><img src=\"https://colab.research.google.com/assets/colab-badge.svg\" alt=\"Open In Colab\"/></a>"
      ]
    },
    {
      "cell_type": "code",
      "execution_count": null,
      "metadata": {
        "colab": {
          "base_uri": "https://localhost:8080/"
        },
        "id": "MNH2UZtddyNP",
        "outputId": "9b18c4c3-d90d-4e40-81af-8c865a3f82c1"
      },
      "outputs": [
        {
          "output_type": "stream",
          "name": "stdout",
          "text": [
            "Alas! I lost the game.\n"
          ]
        }
      ],
      "source": [
        "text=\"AACAGATACTACA\"\n",
        "k=3\n",
        "t=6\n",
        "result=\"\"\n",
        "temp=1\n",
        "for i in range(len(text)-k+1):\n",
        "  if text[0:0+len(text)].count(text[i:i+k])==t and temp==1: #1st if condition fillup then put temp==1 o rakhbo\n",
        "    result=result+text[i:i+k] # then add into result\n",
        "    temp=0  #after that temp=o\n",
        "if temp==1:\n",
        "  print(\"Alas! I lost the game.\")\n",
        "else:\n",
        "  result=result[::-1]\n",
        "  print(result)"
      ]
    }
  ]
}
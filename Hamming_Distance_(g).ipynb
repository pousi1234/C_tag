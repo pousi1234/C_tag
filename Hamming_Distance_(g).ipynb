{
  "nbformat": 4,
  "nbformat_minor": 0,
  "metadata": {
    "colab": {
      "provenance": [],
      "authorship_tag": "ABX9TyPG5EkTMnWe18d0+gzq/i24",
      "include_colab_link": true
    },
    "kernelspec": {
      "name": "python3",
      "display_name": "Python 3"
    },
    "language_info": {
      "name": "python"
    }
  },
  "cells": [
    {
      "cell_type": "markdown",
      "metadata": {
        "id": "view-in-github",
        "colab_type": "text"
      },
      "source": [
        "<a href=\"https://colab.research.google.com/github/pousi1234/C_tag/blob/main/Hamming_Distance_(g).ipynb\" target=\"_parent\"><img src=\"https://colab.research.google.com/assets/colab-badge.svg\" alt=\"Open In Colab\"/></a>"
      ]
    },
    {
      "cell_type": "code",
      "execution_count": 1,
      "metadata": {
        "colab": {
          "base_uri": "https://localhost:8080/"
        },
        "id": "ksUaVp6Gcgxt",
        "outputId": "d0c76c9c-9b51-4a12-aeed-73ac41da73cd"
      },
      "outputs": [
        {
          "output_type": "stream",
          "name": "stdout",
          "text": [
            "GGGCCGTTGGT\n",
            "GGACCGTTGAC\n",
            "3\n"
          ]
        }
      ],
      "source": [
        "\n",
        "string1 = input();\n",
        "string2 = input();\n",
        "S1 = len(string1);\n",
        "S1 = len(string2);\n",
        "ans = 0;\n",
        "\n",
        "for i in range(0, S1):\n",
        "    if (string1[i] != string2[i]):\n",
        "       ans+=1;\n",
        "print(ans)"
      ]
    }
  ]
}
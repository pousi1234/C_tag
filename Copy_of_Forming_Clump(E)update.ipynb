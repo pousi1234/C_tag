{
  "nbformat": 4,
  "nbformat_minor": 0,
  "metadata": {
    "colab": {
      "provenance": [],
      "authorship_tag": "ABX9TyODT+gIXabPes2sO9V68HsZ",
      "include_colab_link": true
    },
    "kernelspec": {
      "name": "python3",
      "display_name": "Python 3"
    },
    "language_info": {
      "name": "python"
    }
  },
  "cells": [
    {
      "cell_type": "markdown",
      "metadata": {
        "id": "view-in-github",
        "colab_type": "text"
      },
      "source": [
        "<a href=\"https://colab.research.google.com/github/pousi1234/C_tag/blob/main/Copy_of_Forming_Clump(E)update.ipynb\" target=\"_parent\"><img src=\"https://colab.research.google.com/assets/colab-badge.svg\" alt=\"Open In Colab\"/></a>"
      ]
    },
    {
      "cell_type": "code",
      "execution_count": null,
      "metadata": {
        "colab": {
          "base_uri": "https://localhost:8080/"
        },
        "id": "YCq1YehIUU9I",
        "outputId": "602f6ee3-cabe-44aa-ad67-6991ea3d0a52"
      },
      "outputs": [
        {
          "output_type": "stream",
          "name": "stdout",
          "text": [
            "CGGACTCGACAGATGTGAAGAAATGTGAAGACTGAGTGAAGAGAAGAGGAAACACGACACGACATTGCGACATAATGTACGAATGTAATGTGCCTATGGC\n",
            "5\n",
            "75\n",
            "4\n",
            "GAAGA AATGT CGACA\n"
          ]
        }
      ],
      "source": [
        "def clump_finding(s, k, L, t):\n",
        "    res = []\n",
        "    for i in range(len(s)-L+1):\n",
        "        for j in range(i,i+L-k):\n",
        "            if s[i:i+L].count(s[j:j+k]) == t:\n",
        "                res.append(s[j:j+k])  #add combination (i, k) to result \n",
        "    res = list(set(res))   # #remove duplicates from  result\n",
        "    return res\n",
        "    \n",
        "s = input()\n",
        "k= int(input())\n",
        "L= int(input()) \n",
        "t = int(input())\n",
        "\n",
        "res = clump_finding(s, k, L, t)\n",
        "print(\" \".join(res)) #for blank space"
      ]
    }
  ]
}
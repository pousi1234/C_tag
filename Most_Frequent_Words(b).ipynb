{
  "nbformat": 4,
  "nbformat_minor": 0,
  "metadata": {
    "colab": {
      "provenance": [],
      "authorship_tag": "ABX9TyN6RhmNTYJfqhgCCHOL8sZg",
      "include_colab_link": true
    },
    "kernelspec": {
      "name": "python3",
      "display_name": "Python 3"
    },
    "language_info": {
      "name": "python"
    }
  },
  "cells": [
    {
      "cell_type": "markdown",
      "metadata": {
        "id": "view-in-github",
        "colab_type": "text"
      },
      "source": [
        "<a href=\"https://colab.research.google.com/github/pousi1234/C_tag/blob/main/Most_Frequent_Words(b).ipynb\" target=\"_parent\"><img src=\"https://colab.research.google.com/assets/colab-badge.svg\" alt=\"Open In Colab\"/></a>"
      ]
    },
    {
      "cell_type": "code",
      "execution_count": 1,
      "metadata": {
        "colab": {
          "base_uri": "https://localhost:8080/"
        },
        "id": "JiadzJvMLu0e",
        "outputId": "ebf39d73-2abe-4d4e-b571-91bcdf88be9e"
      },
      "outputs": [
        {
          "output_type": "stream",
          "name": "stdout",
          "text": [
            "ACGTTGCATGTCGCATGATGCATGAGAGCT\n",
            "4\n",
            "GCAT CATG \n"
          ]
        },
        {
          "output_type": "execute_result",
          "data": {
            "text/plain": [
              "{'ACGT': 1,\n",
              " 'CGTT': 1,\n",
              " 'GTTG': 1,\n",
              " 'TTGC': 1,\n",
              " 'TGCA': 2,\n",
              " 'GCAT': 3,\n",
              " 'CATG': 3,\n",
              " 'ATGT': 1,\n",
              " 'TGTC': 1,\n",
              " 'GTCG': 1,\n",
              " 'TCGC': 1,\n",
              " 'CGCA': 1,\n",
              " 'ATGA': 2,\n",
              " 'TGAT': 1,\n",
              " 'GATG': 1,\n",
              " 'ATGC': 1,\n",
              " 'TGAG': 1,\n",
              " 'GAGA': 1,\n",
              " 'AGAG': 1,\n",
              " 'GAGC': 1,\n",
              " 'AGCT': 1}"
            ]
          },
          "metadata": {},
          "execution_count": 1
        }
      ],
      "source": [
        "\n",
        "def frequent_words(text, k): #function \n",
        "    frequent_pattern = {} #empty string\n",
        "    length = len(text) #length of text\n",
        "    for i in range(length-k+1): #for loop upto text-K+1\n",
        "        if text[i:i+k] not in frequent_pattern: \n",
        "            frequent_pattern[text[i:i+k]] = 0\n",
        "        frequent_pattern[text[i:i+k]] += 1\n",
        "    frequent_count = max(frequent_pattern.values())\n",
        "    for k,v in frequent_pattern.items():\n",
        "        if v==frequent_count:\n",
        "            print(k, end=\" \")\n",
        "    print()\n",
        "    return frequent_pattern\n",
        "    \n",
        "text = input()\n",
        "k = int(input())\n",
        "frequent_words(text, k)"
      ]
    }
  ]
}
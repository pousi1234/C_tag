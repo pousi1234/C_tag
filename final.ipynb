{
  "nbformat": 4,
  "nbformat_minor": 0,
  "metadata": {
    "colab": {
      "provenance": [],
      "authorship_tag": "ABX9TyPmyuERvIhfgK8A/taZ/oUN",
      "include_colab_link": true
    },
    "kernelspec": {
      "name": "python3",
      "display_name": "Python 3"
    },
    "language_info": {
      "name": "python"
    }
  },
  "cells": [
    {
      "cell_type": "markdown",
      "metadata": {
        "id": "view-in-github",
        "colab_type": "text"
      },
      "source": [
        "<a href=\"https://colab.research.google.com/github/pousi1234/C_tag/blob/main/final.ipynb\" target=\"_parent\"><img src=\"https://colab.research.google.com/assets/colab-badge.svg\" alt=\"Open In Colab\"/></a>"
      ]
    },
    {
      "cell_type": "code",
      "execution_count": 1,
      "metadata": {
        "colab": {
          "base_uri": "https://localhost:8080/"
        },
        "id": "IzbxnVMggmwZ",
        "outputId": "2db4f1b0-69a4-424c-b109-52c7a95a4f4a"
      },
      "outputs": [
        {
          "output_type": "stream",
          "name": "stdout",
          "text": [
            "TAC\n"
          ]
        }
      ],
      "source": [
        "pattern = \"ATG\"\n",
        "text = \"ATCCCCTAG\"\n",
        "d = 1\n",
        "result = []\n",
        "pc = {'A':'T', 'T':'A', 'C':'G', 'G':'C'}\n",
        "cp = [pc[i] for i in pattern]\n",
        "cp = \"\".join(cp) \n",
        "for i in range(len (text) -len (pattern)+1) :\n",
        "    w=text[i:i+len(pattern)]\n",
        "    mismat = 0\n",
        "    for j,k in zip(w,pattern):\n",
        "        if j!=k:\n",
        "            mismat+=1\n",
        "    if mismat==d:\n",
        "            result. append (w)\n",
        "if len(result)==0:\n",
        "    print (\"Hailey is unable to solve the riddle!\")\n",
        "else:\n",
        "    print (cp)"
      ]
    }
  ]
}
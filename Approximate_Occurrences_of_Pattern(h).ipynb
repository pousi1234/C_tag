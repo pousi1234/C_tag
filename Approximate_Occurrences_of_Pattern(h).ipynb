{
  "nbformat": 4,
  "nbformat_minor": 0,
  "metadata": {
    "colab": {
      "provenance": [],
      "authorship_tag": "ABX9TyOWTJAcYBNBhwhQF1edCd9d",
      "include_colab_link": true
    },
    "kernelspec": {
      "name": "python3",
      "display_name": "Python 3"
    },
    "language_info": {
      "name": "python"
    }
  },
  "cells": [
    {
      "cell_type": "markdown",
      "metadata": {
        "id": "view-in-github",
        "colab_type": "text"
      },
      "source": [
        "<a href=\"https://colab.research.google.com/github/pousi1234/C_tag/blob/main/Approximate_Occurrences_of_Pattern(h).ipynb\" target=\"_parent\"><img src=\"https://colab.research.google.com/assets/colab-badge.svg\" alt=\"Open In Colab\"/></a>"
      ]
    },
    {
      "cell_type": "code",
      "execution_count": 9,
      "metadata": {
        "colab": {
          "base_uri": "https://localhost:8080/"
        },
        "id": "B_cEowvPdC4V",
        "outputId": "f099b8ce-f442-4642-feb9-3010d55f419e"
      },
      "outputs": [
        {
          "output_type": "stream",
          "name": "stdout",
          "text": [
            "ATTCTGGA\n",
            "CGCCCGAATCCAGAACGCATTCCCATATTTCGGGACCACTGGCCTCCACGGTACGGACGTCAATCAAATGCCTAGCGGCTTGTGGTTTCTCCTACGCTCC\n",
            "3\n",
            "6 \n",
            "7 \n",
            "26 \n",
            "27 \n",
            "78 \n"
          ]
        }
      ],
      "source": [
        "pattern = input();\n",
        "text = input();\n",
        "d = input ();\n",
        "d = int(d);\n",
        "l = len(text)-len (pattern) +1;\n",
        "patternLen = len(pattern);\n",
        "\n",
        "for i in range(0, l):\n",
        "     cnt = 0;\n",
        "     curString = text[i: i+patternLen];\n",
        "     for j in range(0, patternLen):\n",
        "          if curString[j]!=pattern[j]:\n",
        "            cnt+=1;\n",
        "     if(cnt<=d) :\n",
        "         print(i, end=\" \");\n",
        "         print()\n",
        "     \n",
        " "
      ]
    }
  ]
}
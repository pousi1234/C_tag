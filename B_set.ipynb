{
  "nbformat": 4,
  "nbformat_minor": 0,
  "metadata": {
    "colab": {
      "provenance": [],
      "authorship_tag": "ABX9TyPe/JxccKnIdwowmoTfLWrX",
      "include_colab_link": true
    },
    "kernelspec": {
      "name": "python3",
      "display_name": "Python 3"
    },
    "language_info": {
      "name": "python"
    }
  },
  "cells": [
    {
      "cell_type": "markdown",
      "metadata": {
        "id": "view-in-github",
        "colab_type": "text"
      },
      "source": [
        "<a href=\"https://colab.research.google.com/github/pousi1234/C_tag/blob/main/B_set.ipynb\" target=\"_parent\"><img src=\"https://colab.research.google.com/assets/colab-badge.svg\" alt=\"Open In Colab\"/></a>"
      ]
    },
    {
      "cell_type": "code",
      "execution_count": 1,
      "metadata": {
        "colab": {
          "base_uri": "https://localhost:8080/"
        },
        "id": "WkGzA6rGMdAq",
        "outputId": "9b6f91bd-e9b6-4f76-fceb-01e53d1f446a"
      },
      "outputs": [
        {
          "output_type": "stream",
          "name": "stdout",
          "text": [
            "TAC\n"
          ]
        }
      ],
      "source": [
        "pattern = \"ATG\"\n",
        "text = \"ATCCCCTAG\"\n",
        "d = 1\n",
        "output = []\n",
        "patternLen = len(pattern);\n",
        "l= len (text) -len (pattern)+1;\n",
        "character = {'A':'T', 'T':'A', 'C':'G', 'G':'C'}\n",
        "character_inverse = [character[s] for s in pattern]\n",
        "character_inverse = \"\".join(character_inverse) \n",
        "for i in range(0,l) :\n",
        "    mismat = 0\n",
        "    curstring=text[i:i+len(pattern)] ;\n",
        "    \n",
        "    for j in range(0,patternLen):\n",
        "        if curstring [j]!=pattern [j]:\n",
        "            mismat+=1\n",
        "    if mismat==d:\n",
        "            output. append (curstring)\n",
        "if len(output)==0:\n",
        "    print (\"Hailey is unable to solve the riddle!\")\n",
        "else:\n",
        "    print (character_inverse)"
      ]
    }
  ]
}